{
  "cells": [
    {
      "cell_type": "code",
      "execution_count": 1,
      "metadata": {
        "id": "NCb7aFfWiWDE"
      },
      "outputs": [],
      "source": [
        "import pandas as pd\n",
        "import numpy as np\n",
        "from sklearn.model_selection import train_test_split\n",
        "from sklearn.preprocessing import LabelEncoder\n",
        "from sklearn.neighbors import KNeighborsClassifier\n",
        "from sklearn.ensemble import RandomForestClassifier\n",
        "from sklearn.svm import SVC\n",
        "from sklearn.metrics import accuracy_score, confusion_matrix, classification_report\n",
        "import joblib\n",
        "import matplotlib.pyplot as plt\n",
        "import seaborn as sns\n",
        "\n",
        "# Load the dataset\n",
        "df = pd.read_csv('kidney_disease.csv')\n",
        "\n",
        "# Drop the 'id' column\n",
        "df.drop('id', axis=1, inplace=True)\n",
        "\n",
        "# Rename column names to make them more user-friendly\n",
        "df.columns = ['age', 'blood_pressure', 'specific_gravity', 'albumin', 'sugar', 'red_blood_cells', 'pus_cell',\n",
        "              'pus_cell_clumps', 'bacteria', 'blood_glucose_random', 'blood_urea', 'serum_creatinine', 'sodium',\n",
        "              'potassium', 'haemoglobin', 'packed_cell_volume', 'white_blood_cell_count', 'red_blood_cell_count',\n",
        "              'hypertension', 'diabetes_mellitus', 'coronary_artery_disease', 'appetite', 'peda_edema', 'anemia', 'class']\n",
        "\n",
        "# Convert necessary columns to numerical type\n",
        "df['packed_cell_volume'] = pd.to_numeric(df['packed_cell_volume'], errors='coerce')\n",
        "df['white_blood_cell_count'] = pd.to_numeric(df['white_blood_cell_count'], errors='coerce')\n",
        "df['red_blood_cell_count'] = pd.to_numeric(df['red_blood_cell_count'], errors='coerce')\n",
        "\n",
        "# Replace incorrect values in categorical columns\n",
        "df['diabetes_mellitus'].replace(to_replace={'\\tno':'no','\\tyes':'yes',' yes':'yes'}, inplace=True)\n",
        "df['coronary_artery_disease'] = df['coronary_artery_disease'].replace(to_replace='\\tno', value='no')\n",
        "df['class'] = df['class'].replace(to_replace={'ckd\\t': 'ckd', 'notckd': 'not ckd'})\n",
        "df['class'] = df['class'].map({'ckd': 0, 'not ckd': 1})\n",
        "df['class'] = pd.to_numeric(df['class'], errors='coerce')\n",
        "\n",
        "# Convert categorical columns to numeric using LabelEncoder\n",
        "cat_cols = [col for col in df.columns if df[col].dtype == 'object']\n",
        "le = LabelEncoder()\n",
        "for col in cat_cols:\n",
        "    df[col] = le.fit_transform(df[col])\n",
        "\n",
        "# Fill missing values\n",
        "def random_value_imputation(feature):\n",
        "    random_sample = df[feature].dropna().sample(df[feature].isna().sum())\n",
        "    random_sample.index = df[df[feature].isnull()].index\n",
        "    df.loc[df[feature].isnull(), feature] = random_sample\n",
        "\n",
        "def impute_mode(feature):\n",
        "    mode = df[feature].mode()[0]\n",
        "    df[feature] = df[feature].fillna(mode)\n",
        "\n",
        "for col in df.columns:\n",
        "    if col in cat_cols:\n",
        "        impute_mode(col)\n",
        "    else:\n",
        "        random_value_imputation(col)\n"
      ]
    },
    {
      "cell_type": "code",
      "execution_count": 2,
      "metadata": {
        "id": "kYcbop5viWDH"
      },
      "outputs": [],
      "source": [
        "# Split the dataset into features (X) and target (y)\n",
        "X = df.drop('class', axis=1)\n",
        "y = df['class']\n",
        "\n",
        "# Split the data into training and testing sets\n",
        "X_train, X_test, y_train, y_test = train_test_split(X, y, test_size=0.3, random_state=42)\n"
      ]
    },
    {
      "cell_type": "code",
      "execution_count": 3,
      "metadata": {
        "colab": {
          "base_uri": "https://localhost:8080/"
        },
        "id": "uGB-TML8iWDI",
        "outputId": "98af8a02-20aa-4e88-9a05-c85f1be60f0e"
      },
      "outputs": [
        {
          "output_type": "execute_result",
          "data": {
            "text/plain": [
              "['knn_model.pkl']"
            ]
          },
          "metadata": {},
          "execution_count": 3
        }
      ],
      "source": [
        "# Train the KNN model\n",
        "knn_model = KNeighborsClassifier()\n",
        "knn_model.fit(X_train, y_train)\n",
        "\n",
        "# Evaluate the KNN model\n",
        "knn_train_accuracy = knn_model.score(X_train, y_train)\n",
        "knn_test_accuracy = knn_model.score(X_test, y_test)\n",
        "knn_y_pred = knn_model.predict(X_test)\n",
        "knn_classification_report = classification_report(y_test, knn_y_pred)\n",
        "\n",
        "# Save the trained KNN model to a .pkl file\n",
        "joblib.dump(knn_model, 'knn_model.pkl')"
      ]
    },
    {
      "cell_type": "code",
      "execution_count": 4,
      "metadata": {
        "colab": {
          "base_uri": "https://localhost:8080/"
        },
        "id": "Uv_nlpYMiWDI",
        "outputId": "24d339d9-f056-4376-fe1b-fbd19063f71e"
      },
      "outputs": [
        {
          "output_type": "execute_result",
          "data": {
            "text/plain": [
              "['rf_model.pkl']"
            ]
          },
          "metadata": {},
          "execution_count": 4
        }
      ],
      "source": [
        "# Train the Random Forest model\n",
        "rf_model = RandomForestClassifier()\n",
        "rf_model.fit(X_train, y_train)\n",
        "\n",
        "# Evaluate the Random Forest model\n",
        "rf_train_accuracy = rf_model.score(X_train, y_train)\n",
        "rf_test_accuracy = rf_model.score(X_test, y_test)\n",
        "rf_y_pred = rf_model.predict(X_test)\n",
        "rf_classification_report = classification_report(y_test, rf_y_pred)\n",
        "\n",
        "# Save the trained Random Forest model to a .pkl file\n",
        "joblib.dump(rf_model, 'rf_model.pkl')"
      ]
    },
    {
      "cell_type": "code",
      "source": [
        "# Train the SVM model\n",
        "svm_model = SVC()\n",
        "svm_model.fit(X_train, y_train)\n",
        "\n",
        "# Evaluate the SVM model\n",
        "svm_train_accuracy = svm_model.score(X_train, y_train)\n",
        "svm_test_accuracy = svm_model.score(X_test, y_test)\n",
        "svm_y_pred = svm_model.predict(X_test)\n",
        "svm_classification_report = classification_report(y_test, svm_y_pred)\n",
        "\n",
        "# Save the trained SVM model to a .pkl file\n",
        "joblib.dump(svm_model, 'svm_model.pkl')"
      ],
      "metadata": {
        "colab": {
          "base_uri": "https://localhost:8080/"
        },
        "id": "6nvAkyuFjJ-3",
        "outputId": "3db6d158-b402-4ce3-8558-6918927a9d62"
      },
      "execution_count": 7,
      "outputs": [
        {
          "output_type": "stream",
          "name": "stderr",
          "text": [
            "/usr/local/lib/python3.10/dist-packages/sklearn/metrics/_classification.py:1344: UndefinedMetricWarning: Precision and F-score are ill-defined and being set to 0.0 in labels with no predicted samples. Use `zero_division` parameter to control this behavior.\n",
            "  _warn_prf(average, modifier, msg_start, len(result))\n",
            "/usr/local/lib/python3.10/dist-packages/sklearn/metrics/_classification.py:1344: UndefinedMetricWarning: Precision and F-score are ill-defined and being set to 0.0 in labels with no predicted samples. Use `zero_division` parameter to control this behavior.\n",
            "  _warn_prf(average, modifier, msg_start, len(result))\n",
            "/usr/local/lib/python3.10/dist-packages/sklearn/metrics/_classification.py:1344: UndefinedMetricWarning: Precision and F-score are ill-defined and being set to 0.0 in labels with no predicted samples. Use `zero_division` parameter to control this behavior.\n",
            "  _warn_prf(average, modifier, msg_start, len(result))\n"
          ]
        },
        {
          "output_type": "execute_result",
          "data": {
            "text/plain": [
              "['svm_model.pkl']"
            ]
          },
          "metadata": {},
          "execution_count": 7
        }
      ]
    },
    {
      "cell_type": "code",
      "execution_count": 8,
      "metadata": {
        "colab": {
          "base_uri": "https://localhost:8080/",
          "height": 1000
        },
        "id": "6N2crwvOiWDJ",
        "outputId": "2a51ecce-d160-42b0-b739-aaddc5c48e35"
      },
      "outputs": [
        {
          "output_type": "display_data",
          "data": {
            "text/plain": [
              "<Figure size 1000x600 with 1 Axes>"
            ],
            "image/png": "[encoded data removed]"
          },
          "metadata": {}
        },
        {
          "output_type": "display_data",
          "data": {
            "text/plain": [
              "<Figure size 1000x600 with 1 Axes>"
            ],
            "image/png": "[encoded data removed]"
          },
          "metadata": {}
        },
        {
          "output_type": "stream",
          "name": "stdout",
          "text": [
            "Classification Report for KNN:\n",
            "              precision    recall  f1-score   support\n",
            "\n",
            "           0       0.79      0.72      0.75        76\n",
            "           1       0.58      0.66      0.62        44\n",
            "\n",
            "    accuracy                           0.70       120\n",
            "   macro avg       0.68      0.69      0.69       120\n",
            "weighted avg       0.71      0.70      0.70       120\n",
            "\n",
            "\n",
            "Classification Report for Random Forest:\n",
            "              precision    recall  f1-score   support\n",
            "\n",
            "           0       0.99      1.00      0.99        76\n",
            "           1       1.00      0.98      0.99        44\n",
            "\n",
            "    accuracy                           0.99       120\n",
            "   macro avg       0.99      0.99      0.99       120\n",
            "weighted avg       0.99      0.99      0.99       120\n",
            "\n",
            "\n",
            "Classification Report for SVM:\n",
            "              precision    recall  f1-score   support\n",
            "\n",
            "           0       0.63      1.00      0.78        76\n",
            "           1       0.00      0.00      0.00        44\n",
            "\n",
            "    accuracy                           0.63       120\n",
            "   macro avg       0.32      0.50      0.39       120\n",
            "weighted avg       0.40      0.63      0.49       120\n",
            "\n",
            "\n"
          ]
        }
      ],
      "source": [
        "# Compare the performance of the models using various evaluation metrics\n",
        "models = ['KNN', 'Random Forest', 'SVM']\n",
        "train_accuracies = [knn_train_accuracy, rf_train_accuracy, svm_train_accuracy]\n",
        "test_accuracies = [knn_test_accuracy, rf_test_accuracy, svm_test_accuracy]\n",
        "classification_reports = [knn_classification_report, rf_classification_report, svm_classification_report]\n",
        "\n",
        "# Plot the accuracy comparison\n",
        "plt.figure(figsize=(10, 6))\n",
        "sns.barplot(x=models, y=train_accuracies, palette='viridis')\n",
        "plt.title('Train Accuracy Comparison')\n",
        "plt.ylim(0, 1.0)\n",
        "plt.ylabel('Accuracy')\n",
        "plt.show()\n",
        "\n",
        "plt.figure(figsize=(10, 6))\n",
        "sns.barplot(x=models, y=test_accuracies, palette='viridis')\n",
        "plt.title('Test Accuracy Comparison')\n",
        "plt.ylim(0, 1.0)\n",
        "plt.ylabel('Accuracy')\n",
        "plt.show()\n",
        "\n",
        "# Display the classification reports\n",
        "for model, report in zip(models, classification_reports):\n",
        "    print(f\"Classification Report for {model}:\\n{report}\\n\")"
      ]
    },
    {
      "cell_type": "code",
      "execution_count": null,
      "metadata": {
        "id": "Z6Mk3ecuiWDJ"
      },
      "outputs": [],
      "source": []
    }
  ],
  "metadata": {
    "interpreter": {
      "hash": "7060ffcfdfc9089ae2b96d886d6d0b7944d7076f72be106e273a50acbf77998b"
    },
    "kernelspec": {
      "display_name": "Python 3.9.12 ('virtual')",
      "language": "python",
      "name": "python3"
    },
    "language_info": {
      "codemirror_mode": {
        "name": "ipython",
        "version": 3
      },
      "file_extension": ".py",
      "mimetype": "text/x-python",
      "name": "python",
      "nbconvert_exporter": "python",
      "pygments_lexer": "ipython3",
      "version": "3.9.12"
    },
    "orig_nbformat": 4,
    "colab": {
      "provenance": []
    }
  },
  "nbformat": 4,
  "nbformat_minor": 0
}